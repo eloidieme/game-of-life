{
 "cells": [
  {
   "cell_type": "code",
   "execution_count": 1,
   "metadata": {},
   "outputs": [],
   "source": [
    "import numpy as np\n",
    "import os"
   ]
  },
  {
   "cell_type": "code",
   "execution_count": 2,
   "metadata": {},
   "outputs": [
    {
     "name": "stdout",
     "output_type": "stream",
     "text": [
      "/Users/eloidieme/dev/python-projects/pr-game-of-life\n"
     ]
    },
    {
     "name": "stderr",
     "output_type": "stream",
     "text": [
      "/Users/eloidieme/dev/python-projects/pr-game-of-life/.venv/lib/python3.11/site-packages/IPython/core/magics/osm.py:417: UserWarning: This is now an optional IPython functionality, setting dhist requires you to install the `pickleshare` library.\n",
      "  self.shell.db['dhist'] = compress_dhist(dhist)[-100:]\n"
     ]
    }
   ],
   "source": [
    "%cd ../"
   ]
  },
  {
   "cell_type": "code",
   "execution_count": 3,
   "metadata": {},
   "outputs": [
    {
     "data": {
      "text/plain": [
       "'/Users/eloidieme/dev/python-projects/pr-game-of-life'"
      ]
     },
     "execution_count": 3,
     "metadata": {},
     "output_type": "execute_result"
    }
   ],
   "source": [
    "os.getcwd()"
   ]
  },
  {
   "cell_type": "markdown",
   "metadata": {},
   "source": [
    "Règles de mise à jour:\n",
    "1. Toute cellule morte possédant exactement 3 voisins vivants devient une cellule vivante.\n",
    "2. Toute cellule vivante possédant 2 ou 3 voisins vivants reste vivante, sinon elle meurt."
   ]
  },
  {
   "cell_type": "code",
   "execution_count": 4,
   "metadata": {},
   "outputs": [
    {
     "data": {
      "text/plain": [
       "array([[ True,  True,  True, False, False],\n",
       "       [ True, False, False, False, False],\n",
       "       [ True,  True, False, False,  True],\n",
       "       [False,  True,  True, False, False],\n",
       "       [ True, False, False, False, False]])"
      ]
     },
     "execution_count": 4,
     "metadata": {},
     "output_type": "execute_result"
    }
   ],
   "source": [
    "grid = np.random.choice([False, True], size=(5, 5))\n",
    "grid"
   ]
  },
  {
   "cell_type": "code",
   "execution_count": 5,
   "metadata": {},
   "outputs": [],
   "source": [
    "def render(grid):\n",
    "    s = ''\n",
    "    s += '-'*(grid.shape[1] + 2)\n",
    "    s += '\\n'\n",
    "\n",
    "    for i in range(grid.shape[0]):\n",
    "        s += '|'\n",
    "        for j in range(grid.shape[1]):\n",
    "            s += '#' if grid[i, j] else ' '\n",
    "        s += '|\\n'\n",
    "\n",
    "    s += '-'*(grid.shape[1] + 2)\n",
    "    s += '\\n'\n",
    "\n",
    "    print(s)"
   ]
  },
  {
   "cell_type": "code",
   "execution_count": 6,
   "metadata": {},
   "outputs": [
    {
     "name": "stdout",
     "output_type": "stream",
     "text": [
      "-------\n",
      "|   ##|\n",
      "|#    |\n",
      "|## ##|\n",
      "|#  ##|\n",
      "| #  #|\n",
      "-------\n",
      "\n"
     ]
    }
   ],
   "source": [
    "render(grid)"
   ]
  },
  {
   "cell_type": "markdown",
   "metadata": {},
   "source": [
    "On suppose qu'une cellule au bord de la grille a des voisins sur le bord opposé -> wrapping"
   ]
  },
  {
   "cell_type": "code",
   "execution_count": 7,
   "metadata": {},
   "outputs": [],
   "source": [
    "coords = []\n",
    "(grid_height, grid_width) = grid.shape\n",
    "for i in range(grid_height):\n",
    "    for j in range(grid_width):\n",
    "        neighbour_coordinates = [[(k % grid_height, l % grid_width) for k in range(i-1, i+2)] for l in range(j-1, j+2)]\n",
    "        coords.append(neighbour_coordinates)"
   ]
  },
  {
   "cell_type": "code",
   "execution_count": 8,
   "metadata": {},
   "outputs": [],
   "source": [
    "def show_neighbours(grid, neighbour_coordinates):\n",
    "    s = ''\n",
    "    s += '-'*(grid.shape[1] + 2)\n",
    "    s += '\\n'\n",
    "\n",
    "    for i in range(grid.shape[0]):\n",
    "        s += '|'\n",
    "        for j in range(grid.shape[1]):\n",
    "            if (i,j) == neighbour_coordinates[1][1]:\n",
    "                s += 'O'\n",
    "            elif (i,j) in neighbour_coordinates[0]\\\n",
    "                or (i,j) in neighbour_coordinates[1]\\\n",
    "                or (i,j) in neighbour_coordinates[2]:\n",
    "                s += '#'\n",
    "            else:\n",
    "                s += ' '\n",
    "\n",
    "        s += '|\\n'\n",
    "\n",
    "    s += '-'*(grid.shape[1] + 2)\n",
    "    s += '\\n'\n",
    "\n",
    "    print(s)\n",
    "    "
   ]
  },
  {
   "cell_type": "code",
   "execution_count": 9,
   "metadata": {},
   "outputs": [],
   "source": [
    "grid = np.array(\n",
    "    [[False, False, False, False, False],\n",
    "     [False, False, False, False, False],\n",
    "     [False, True, True, True, False],\n",
    "     [False, False, False, False, False],\n",
    "     [False, False, False, False, False],\n",
    "    ]\n",
    ")"
   ]
  },
  {
   "cell_type": "code",
   "execution_count": 11,
   "metadata": {},
   "outputs": [
    {
     "name": "stdout",
     "output_type": "stream",
     "text": [
      "-------\n",
      "|O#  #|\n",
      "|##  #|\n",
      "|     |\n",
      "|     |\n",
      "|##  #|\n",
      "-------\n",
      "\n"
     ]
    }
   ],
   "source": [
    "show_neighbours(grid, coords[0])"
   ]
  },
  {
   "cell_type": "code",
   "execution_count": 12,
   "metadata": {},
   "outputs": [
    {
     "name": "stdout",
     "output_type": "stream",
     "text": [
      "-------\n",
      "|     |\n",
      "|     |\n",
      "| ### |\n",
      "|     |\n",
      "|     |\n",
      "-------\n",
      "\n"
     ]
    }
   ],
   "source": [
    "render(grid)"
   ]
  },
  {
   "cell_type": "code",
   "execution_count": 16,
   "metadata": {},
   "outputs": [],
   "source": [
    "import copy\n",
    "def update(grid):\n",
    "    (grid_height, grid_width) = grid.shape\n",
    "    updated_grid = copy.deepcopy(grid)\n",
    "    for i in range(grid_height):\n",
    "        for j in range(grid_width):\n",
    "            alive_neighbours_count = 0\n",
    "            for k in range(i-1, i+2):\n",
    "                for l in range(j-1, j+2):\n",
    "                    if (k,l) != (i,j) and grid[(k % grid_height, l % grid_width)]:\n",
    "                        alive_neighbours_count += 1 \n",
    "            if not grid[i, j] and alive_neighbours_count == 3:\n",
    "                updated_grid[i, j] = True\n",
    "            if grid[i, j] and alive_neighbours_count not in [2, 3]:\n",
    "                updated_grid[i, j] = False\n",
    "    return updated_grid"
   ]
  },
  {
   "cell_type": "code",
   "execution_count": 19,
   "metadata": {},
   "outputs": [
    {
     "name": "stdout",
     "output_type": "stream",
     "text": [
      "-------\n",
      "|     |\n",
      "|  #  |\n",
      "|  #  |\n",
      "|  #  |\n",
      "|     |\n",
      "-------\n",
      "\n"
     ]
    }
   ],
   "source": [
    "render(update(grid))"
   ]
  },
  {
   "cell_type": "code",
   "execution_count": 18,
   "metadata": {},
   "outputs": [
    {
     "name": "stdout",
     "output_type": "stream",
     "text": [
      "-------\n",
      "|     |\n",
      "|     |\n",
      "| ### |\n",
      "|     |\n",
      "|     |\n",
      "-------\n",
      "\n"
     ]
    }
   ],
   "source": [
    "render(update(update(grid)))"
   ]
  },
  {
   "cell_type": "code",
   "execution_count": 7,
   "metadata": {},
   "outputs": [],
   "source": [
    "from pathlib import Path\n",
    "import re\n",
    "\n",
    "file_path = Path('./data/gosper_glider.rle')\n",
    "try:\n",
    "    with file_path.open('r') as file:\n",
    "        grid_lines = [line.strip() for line in file if line.strip()]\n",
    "except Exception as e:\n",
    "    raise ValueError(f\"Error reading grid file: {file_path}\") from e\n"
   ]
  },
  {
   "cell_type": "code",
   "execution_count": 8,
   "metadata": {},
   "outputs": [
    {
     "name": "stdout",
     "output_type": "stream",
     "text": [
      "x = 36, y = 9, rule = B3/S23\n",
      "24bo$22bobo$12b2o6b2o12b2o$11bo3bo4b2o12b2o$2o8bo5bo3b2o$2o8bo3bob2o4bobo$10bo5bo7bo$11bo3bo$12b2o!\n"
     ]
    }
   ],
   "source": [
    "grid_lines\n",
    "size_line = grid_lines[0]\n",
    "pattern_line = \"\"\n",
    "for line in grid_lines[1:]:\n",
    "    pattern_line += line\n",
    "print(size_line, pattern_line, sep='\\n')"
   ]
  },
  {
   "cell_type": "code",
   "execution_count": 9,
   "metadata": {},
   "outputs": [
    {
     "data": {
      "text/plain": [
       "36"
      ]
     },
     "execution_count": 9,
     "metadata": {},
     "output_type": "execute_result"
    }
   ],
   "source": [
    "width_str, height_str, _ = size_line.split(',')\n",
    "width = int(re.findall(r'[-+]?[0-9]*\\.?[0-9]+', width_str)[0])\n",
    "height = int(re.findall(r'[-+]?[0-9]*\\.?[0-9]+', height_str)[0])\n",
    "width"
   ]
  },
  {
   "cell_type": "code",
   "execution_count": 10,
   "metadata": {},
   "outputs": [],
   "source": [
    "patterns = pattern_line.split('$')"
   ]
  },
  {
   "cell_type": "code",
   "execution_count": 11,
   "metadata": {},
   "outputs": [
    {
     "data": {
      "text/plain": [
       "['24bo',\n",
       " '22bobo',\n",
       " '12b2o6b2o12b2o',\n",
       " '11bo3bo4b2o12b2o',\n",
       " '2o8bo5bo3b2o',\n",
       " '2o8bo3bob2o4bobo',\n",
       " '10bo5bo7bo',\n",
       " '11bo3bo',\n",
       " '12b2o!']"
      ]
     },
     "execution_count": 11,
     "metadata": {},
     "output_type": "execute_result"
    }
   ],
   "source": [
    "patterns"
   ]
  },
  {
   "cell_type": "code",
   "execution_count": 16,
   "metadata": {},
   "outputs": [],
   "source": [
    "grid = []"
   ]
  },
  {
   "cell_type": "code",
   "execution_count": 17,
   "metadata": {},
   "outputs": [],
   "source": [
    "vertical_spacing, horizontal_spacing = 4, 4"
   ]
  },
  {
   "cell_type": "code",
   "execution_count": 18,
   "metadata": {},
   "outputs": [
    {
     "data": {
      "text/plain": [
       "(4, 44)"
      ]
     },
     "execution_count": 18,
     "metadata": {},
     "output_type": "execute_result"
    }
   ],
   "source": [
    "total_width = width + 2*horizontal_spacing\n",
    "for _ in range(vertical_spacing):\n",
    "    grid.append([0] * total_width)\n",
    "np.array(grid).shape"
   ]
  },
  {
   "cell_type": "code",
   "execution_count": 22,
   "metadata": {},
   "outputs": [
    {
     "data": {
      "text/plain": [
       "[0, 0, 0, 0]"
      ]
     },
     "execution_count": 22,
     "metadata": {},
     "output_type": "execute_result"
    }
   ],
   "source": [
    "row = [0] * horizontal_spacing\n",
    "row"
   ]
  },
  {
   "cell_type": "code",
   "execution_count": 23,
   "metadata": {},
   "outputs": [
    {
     "name": "stdout",
     "output_type": "stream",
     "text": [
      "(44,)\n"
     ]
    }
   ],
   "source": [
    "pattern = patterns[0]\n",
    "row = [0] * horizontal_spacing\n",
    "nums = \"0123456789\"\n",
    "cells = \"ob\"\n",
    "running_num = \"\"\n",
    "for char in pattern:\n",
    "    if char in nums:\n",
    "        running_num += char\n",
    "    elif char in cells and running_num != \"\":\n",
    "        if char == \"o\":\n",
    "            for _ in range(int(running_num)):\n",
    "                row.append(1)\n",
    "        elif char == \"b\":\n",
    "            for _ in range(int(running_num)):\n",
    "                row.append(0)\n",
    "        running_num = \"\"\n",
    "    else:\n",
    "        if char == \"o\":\n",
    "            row.append(1)\n",
    "        else:\n",
    "            row.append(0)\n",
    "for _ in range(horizontal_spacing):\n",
    "                row.append(0)\n",
    "if len(row) < total_width:\n",
    "    for _ in range(total_width - len(row)):\n",
    "        row.append(0)\n",
    "\n",
    "print(np.array(row).shape)"
   ]
  },
  {
   "cell_type": "code",
   "execution_count": 41,
   "metadata": {},
   "outputs": [],
   "source": [
    "for pattern in patterns:\n",
    "    row = [0] * horizontal_spacing\n",
    "    nums = \"0123456789\"\n",
    "    cells = \"ob\"\n",
    "    running_num = \"\"\n",
    "    for char in pattern:\n",
    "        if char in nums:\n",
    "            running_num += char\n",
    "        elif char in cells and running_num != \"\":\n",
    "            if char == \"o\":\n",
    "                for _ in range(int(running_num)):\n",
    "                    row.append(1)\n",
    "            elif char == \"b\":\n",
    "                for _ in range(int(running_num)):\n",
    "                    row.append(0)\n",
    "            running_num = \"\"\n",
    "        else:\n",
    "            if char == \"o\":\n",
    "                row.append(1)\n",
    "            else:\n",
    "                row.append(0)\n",
    "    if len(row) < width:\n",
    "        for _ in range(width - len(row)):\n",
    "            row.append(0)\n",
    "    grid.append(row)"
   ]
  },
  {
   "cell_type": "code",
   "execution_count": 46,
   "metadata": {},
   "outputs": [
    {
     "data": {
      "text/plain": [
       "[[0,\n",
       "  0,\n",
       "  0,\n",
       "  0,\n",
       "  0,\n",
       "  0,\n",
       "  0,\n",
       "  0,\n",
       "  0,\n",
       "  0,\n",
       "  0,\n",
       "  0,\n",
       "  0,\n",
       "  0,\n",
       "  0,\n",
       "  0,\n",
       "  0,\n",
       "  0,\n",
       "  0,\n",
       "  0,\n",
       "  0,\n",
       "  0,\n",
       "  0,\n",
       "  0,\n",
       "  1,\n",
       "  0,\n",
       "  0,\n",
       "  0,\n",
       "  0,\n",
       "  0,\n",
       "  0,\n",
       "  0,\n",
       "  0,\n",
       "  0,\n",
       "  0,\n",
       "  0],\n",
       " [0,\n",
       "  0,\n",
       "  0,\n",
       "  0,\n",
       "  0,\n",
       "  0,\n",
       "  0,\n",
       "  0,\n",
       "  0,\n",
       "  0,\n",
       "  0,\n",
       "  0,\n",
       "  0,\n",
       "  0,\n",
       "  0,\n",
       "  0,\n",
       "  0,\n",
       "  0,\n",
       "  0,\n",
       "  0,\n",
       "  0,\n",
       "  0,\n",
       "  1,\n",
       "  0,\n",
       "  1,\n",
       "  0,\n",
       "  0,\n",
       "  0,\n",
       "  0,\n",
       "  0,\n",
       "  0,\n",
       "  0,\n",
       "  0,\n",
       "  0,\n",
       "  0,\n",
       "  0],\n",
       " [0,\n",
       "  0,\n",
       "  0,\n",
       "  0,\n",
       "  0,\n",
       "  0,\n",
       "  0,\n",
       "  0,\n",
       "  0,\n",
       "  0,\n",
       "  0,\n",
       "  0,\n",
       "  1,\n",
       "  1,\n",
       "  0,\n",
       "  0,\n",
       "  0,\n",
       "  0,\n",
       "  0,\n",
       "  0,\n",
       "  1,\n",
       "  1,\n",
       "  0,\n",
       "  0,\n",
       "  0,\n",
       "  0,\n",
       "  0,\n",
       "  0,\n",
       "  0,\n",
       "  0,\n",
       "  0,\n",
       "  0,\n",
       "  0,\n",
       "  0,\n",
       "  1,\n",
       "  1],\n",
       " [0,\n",
       "  0,\n",
       "  0,\n",
       "  0,\n",
       "  0,\n",
       "  0,\n",
       "  0,\n",
       "  0,\n",
       "  0,\n",
       "  0,\n",
       "  0,\n",
       "  1,\n",
       "  0,\n",
       "  0,\n",
       "  0,\n",
       "  1,\n",
       "  0,\n",
       "  0,\n",
       "  0,\n",
       "  0,\n",
       "  1,\n",
       "  1,\n",
       "  0,\n",
       "  0,\n",
       "  0,\n",
       "  0,\n",
       "  0,\n",
       "  0,\n",
       "  0,\n",
       "  0,\n",
       "  0,\n",
       "  0,\n",
       "  0,\n",
       "  0,\n",
       "  1,\n",
       "  1],\n",
       " [1,\n",
       "  1,\n",
       "  0,\n",
       "  0,\n",
       "  0,\n",
       "  0,\n",
       "  0,\n",
       "  0,\n",
       "  0,\n",
       "  0,\n",
       "  1,\n",
       "  0,\n",
       "  0,\n",
       "  0,\n",
       "  0,\n",
       "  0,\n",
       "  1,\n",
       "  0,\n",
       "  0,\n",
       "  0,\n",
       "  1,\n",
       "  1,\n",
       "  0,\n",
       "  0,\n",
       "  0,\n",
       "  0,\n",
       "  0,\n",
       "  0,\n",
       "  0,\n",
       "  0,\n",
       "  0,\n",
       "  0,\n",
       "  0,\n",
       "  0,\n",
       "  0,\n",
       "  0],\n",
       " [1,\n",
       "  1,\n",
       "  0,\n",
       "  0,\n",
       "  0,\n",
       "  0,\n",
       "  0,\n",
       "  0,\n",
       "  0,\n",
       "  0,\n",
       "  1,\n",
       "  0,\n",
       "  0,\n",
       "  0,\n",
       "  1,\n",
       "  0,\n",
       "  1,\n",
       "  1,\n",
       "  0,\n",
       "  0,\n",
       "  0,\n",
       "  0,\n",
       "  1,\n",
       "  0,\n",
       "  1,\n",
       "  0,\n",
       "  0,\n",
       "  0,\n",
       "  0,\n",
       "  0,\n",
       "  0,\n",
       "  0,\n",
       "  0,\n",
       "  0,\n",
       "  0,\n",
       "  0],\n",
       " [0,\n",
       "  0,\n",
       "  0,\n",
       "  0,\n",
       "  0,\n",
       "  0,\n",
       "  0,\n",
       "  0,\n",
       "  0,\n",
       "  0,\n",
       "  1,\n",
       "  0,\n",
       "  0,\n",
       "  0,\n",
       "  0,\n",
       "  0,\n",
       "  1,\n",
       "  0,\n",
       "  0,\n",
       "  0,\n",
       "  0,\n",
       "  0,\n",
       "  0,\n",
       "  0,\n",
       "  1,\n",
       "  0,\n",
       "  0,\n",
       "  0,\n",
       "  0,\n",
       "  0,\n",
       "  0,\n",
       "  0,\n",
       "  0,\n",
       "  0,\n",
       "  0,\n",
       "  0],\n",
       " [0,\n",
       "  0,\n",
       "  0,\n",
       "  0,\n",
       "  0,\n",
       "  0,\n",
       "  0,\n",
       "  0,\n",
       "  0,\n",
       "  0,\n",
       "  0,\n",
       "  1,\n",
       "  0,\n",
       "  0,\n",
       "  0,\n",
       "  1,\n",
       "  0,\n",
       "  0,\n",
       "  0,\n",
       "  0,\n",
       "  0,\n",
       "  0,\n",
       "  0,\n",
       "  0,\n",
       "  0,\n",
       "  0,\n",
       "  0,\n",
       "  0,\n",
       "  0,\n",
       "  0,\n",
       "  0,\n",
       "  0,\n",
       "  0,\n",
       "  0,\n",
       "  0,\n",
       "  0],\n",
       " [0,\n",
       "  0,\n",
       "  0,\n",
       "  0,\n",
       "  0,\n",
       "  0,\n",
       "  0,\n",
       "  0,\n",
       "  0,\n",
       "  0,\n",
       "  0,\n",
       "  0,\n",
       "  1,\n",
       "  1,\n",
       "  0,\n",
       "  0,\n",
       "  0,\n",
       "  0,\n",
       "  0,\n",
       "  0,\n",
       "  0,\n",
       "  0,\n",
       "  0,\n",
       "  0,\n",
       "  0,\n",
       "  0,\n",
       "  0,\n",
       "  0,\n",
       "  0,\n",
       "  0,\n",
       "  0,\n",
       "  0,\n",
       "  0,\n",
       "  0,\n",
       "  0,\n",
       "  0]]"
      ]
     },
     "execution_count": 46,
     "metadata": {},
     "output_type": "execute_result"
    }
   ],
   "source": []
  },
  {
   "cell_type": "code",
   "execution_count": null,
   "metadata": {},
   "outputs": [],
   "source": [
    "grid = []\n",
    "for line_no, line in enumerate(grid_lines, start=1):\n",
    "    row = []\n",
    "    if line_no == 0:\n",
    "        width_str, height_str = line.split(',')\n",
    "        width = int(re.findall(r'[-+]?[0-9]*\\.?[0-9]+', width_str))\n",
    "        height = int(re.findall(r'[-+]?[0-9]*\\.?[0-9]+', height_str))\n",
    "    else:\n",
    "        grid_lines = line.split('$')\n",
    "        grid.append(row)"
   ]
  },
  {
   "cell_type": "code",
   "execution_count": 4,
   "metadata": {},
   "outputs": [
    {
     "data": {
      "text/plain": [
       "(17, 44)"
      ]
     },
     "execution_count": 4,
     "metadata": {},
     "output_type": "execute_result"
    }
   ],
   "source": [
    "from GameOfLife.game import Game\n",
    "\n",
    "grid = Game._parse_grid_from_rle('data/gosper_glider.rle', 4, 4)\n",
    "grid.shape"
   ]
  },
  {
   "cell_type": "code",
   "execution_count": null,
   "metadata": {},
   "outputs": [],
   "source": []
  },
  {
   "cell_type": "code",
   "execution_count": null,
   "metadata": {},
   "outputs": [],
   "source": []
  },
  {
   "cell_type": "code",
   "execution_count": null,
   "metadata": {},
   "outputs": [],
   "source": []
  },
  {
   "cell_type": "code",
   "execution_count": null,
   "metadata": {},
   "outputs": [],
   "source": []
  },
  {
   "cell_type": "code",
   "execution_count": null,
   "metadata": {},
   "outputs": [],
   "source": []
  },
  {
   "cell_type": "code",
   "execution_count": null,
   "metadata": {},
   "outputs": [],
   "source": []
  },
  {
   "cell_type": "code",
   "execution_count": null,
   "metadata": {},
   "outputs": [],
   "source": []
  },
  {
   "cell_type": "code",
   "execution_count": null,
   "metadata": {},
   "outputs": [],
   "source": []
  },
  {
   "cell_type": "code",
   "execution_count": null,
   "metadata": {},
   "outputs": [],
   "source": []
  }
 ],
 "metadata": {
  "kernelspec": {
   "display_name": ".venv",
   "language": "python",
   "name": "python3"
  },
  "language_info": {
   "codemirror_mode": {
    "name": "ipython",
    "version": 3
   },
   "file_extension": ".py",
   "mimetype": "text/x-python",
   "name": "python",
   "nbconvert_exporter": "python",
   "pygments_lexer": "ipython3",
   "version": "3.11.8"
  }
 },
 "nbformat": 4,
 "nbformat_minor": 2
}
