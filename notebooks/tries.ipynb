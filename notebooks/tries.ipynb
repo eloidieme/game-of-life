{
 "cells": [
  {
   "cell_type": "code",
   "execution_count": 1,
   "metadata": {},
   "outputs": [],
   "source": [
    "import numpy as np\n",
    "import os"
   ]
  },
  {
   "cell_type": "code",
   "execution_count": 2,
   "metadata": {},
   "outputs": [
    {
     "name": "stdout",
     "output_type": "stream",
     "text": [
      "/Users/eloidieme/dev/python-projects/pr-game-of-life\n"
     ]
    },
    {
     "name": "stderr",
     "output_type": "stream",
     "text": [
      "/Users/eloidieme/dev/python-projects/pr-game-of-life/.venv/lib/python3.11/site-packages/IPython/core/magics/osm.py:417: UserWarning: This is now an optional IPython functionality, setting dhist requires you to install the `pickleshare` library.\n",
      "  self.shell.db['dhist'] = compress_dhist(dhist)[-100:]\n"
     ]
    }
   ],
   "source": [
    "%cd ../"
   ]
  },
  {
   "cell_type": "code",
   "execution_count": 3,
   "metadata": {},
   "outputs": [
    {
     "data": {
      "text/plain": [
       "'/Users/eloidieme/dev/python-projects/pr-game-of-life'"
      ]
     },
     "execution_count": 3,
     "metadata": {},
     "output_type": "execute_result"
    }
   ],
   "source": [
    "os.getcwd()"
   ]
  },
  {
   "cell_type": "markdown",
   "metadata": {},
   "source": [
    "Règles de mise à jour:\n",
    "1. Toute cellule morte possédant exactement 3 voisins vivants devient une cellule vivante.\n",
    "2. Toute cellule vivante possédant 2 ou 3 voisins vivants reste vivante, sinon elle meurt."
   ]
  },
  {
   "cell_type": "code",
   "execution_count": 4,
   "metadata": {},
   "outputs": [
    {
     "data": {
      "text/plain": [
       "array([[False, False, False,  True,  True],\n",
       "       [ True, False, False, False, False],\n",
       "       [ True,  True, False,  True,  True],\n",
       "       [ True, False, False,  True,  True],\n",
       "       [False,  True, False, False,  True]])"
      ]
     },
     "execution_count": 4,
     "metadata": {},
     "output_type": "execute_result"
    }
   ],
   "source": [
    "grid = np.random.choice([False, True], size=(5, 5))\n",
    "grid"
   ]
  },
  {
   "cell_type": "code",
   "execution_count": 5,
   "metadata": {},
   "outputs": [],
   "source": [
    "def render(grid):\n",
    "    s = ''\n",
    "    s += '-'*(grid.shape[1] + 2)\n",
    "    s += '\\n'\n",
    "\n",
    "    for i in range(grid.shape[0]):\n",
    "        s += '|'\n",
    "        for j in range(grid.shape[1]):\n",
    "            s += '#' if grid[i, j] else ' '\n",
    "        s += '|\\n'\n",
    "\n",
    "    s += '-'*(grid.shape[1] + 2)\n",
    "    s += '\\n'\n",
    "\n",
    "    print(s)"
   ]
  },
  {
   "cell_type": "code",
   "execution_count": 6,
   "metadata": {},
   "outputs": [
    {
     "name": "stdout",
     "output_type": "stream",
     "text": [
      "-------\n",
      "|   ##|\n",
      "|#    |\n",
      "|## ##|\n",
      "|#  ##|\n",
      "| #  #|\n",
      "-------\n",
      "\n"
     ]
    }
   ],
   "source": [
    "render(grid)"
   ]
  },
  {
   "cell_type": "markdown",
   "metadata": {},
   "source": [
    "On suppose qu'une cellule au bord de la grille a des voisins sur le bord opposé -> wrapping"
   ]
  },
  {
   "cell_type": "code",
   "execution_count": 7,
   "metadata": {},
   "outputs": [],
   "source": [
    "coords = []\n",
    "(grid_height, grid_width) = grid.shape\n",
    "for i in range(grid_height):\n",
    "    for j in range(grid_width):\n",
    "        neighbour_coordinates = [[(k % grid_height, l % grid_width) for k in range(i-1, i+2)] for l in range(j-1, j+2)]\n",
    "        coords.append(neighbour_coordinates)"
   ]
  },
  {
   "cell_type": "code",
   "execution_count": 8,
   "metadata": {},
   "outputs": [],
   "source": [
    "def show_neighbours(grid, neighbour_coordinates):\n",
    "    s = ''\n",
    "    s += '-'*(grid.shape[1] + 2)\n",
    "    s += '\\n'\n",
    "\n",
    "    for i in range(grid.shape[0]):\n",
    "        s += '|'\n",
    "        for j in range(grid.shape[1]):\n",
    "            if (i,j) == neighbour_coordinates[1][1]:\n",
    "                s += 'O'\n",
    "            elif (i,j) in neighbour_coordinates[0]\\\n",
    "                or (i,j) in neighbour_coordinates[1]\\\n",
    "                or (i,j) in neighbour_coordinates[2]:\n",
    "                s += '#'\n",
    "            else:\n",
    "                s += ' '\n",
    "\n",
    "        s += '|\\n'\n",
    "\n",
    "    s += '-'*(grid.shape[1] + 2)\n",
    "    s += '\\n'\n",
    "\n",
    "    print(s)\n",
    "    "
   ]
  },
  {
   "cell_type": "code",
   "execution_count": 9,
   "metadata": {},
   "outputs": [],
   "source": [
    "grid = np.array(\n",
    "    [[False, False, False, False, False],\n",
    "     [False, False, False, False, False],\n",
    "     [False, True, True, True, False],\n",
    "     [False, False, False, False, False],\n",
    "     [False, False, False, False, False],\n",
    "    ]\n",
    ")"
   ]
  },
  {
   "cell_type": "code",
   "execution_count": 11,
   "metadata": {},
   "outputs": [
    {
     "name": "stdout",
     "output_type": "stream",
     "text": [
      "-------\n",
      "|O#  #|\n",
      "|##  #|\n",
      "|     |\n",
      "|     |\n",
      "|##  #|\n",
      "-------\n",
      "\n"
     ]
    }
   ],
   "source": [
    "show_neighbours(grid, coords[0])"
   ]
  },
  {
   "cell_type": "code",
   "execution_count": 12,
   "metadata": {},
   "outputs": [
    {
     "name": "stdout",
     "output_type": "stream",
     "text": [
      "-------\n",
      "|     |\n",
      "|     |\n",
      "| ### |\n",
      "|     |\n",
      "|     |\n",
      "-------\n",
      "\n"
     ]
    }
   ],
   "source": [
    "render(grid)"
   ]
  },
  {
   "cell_type": "code",
   "execution_count": 13,
   "metadata": {},
   "outputs": [],
   "source": [
    "import copy\n",
    "def update(grid):\n",
    "    (grid_height, grid_width) = grid.shape\n",
    "    updated_grid = copy.deepcopy(grid)\n",
    "    for i in range(grid_height):\n",
    "        for j in range(grid_width):\n",
    "            alive_neighbours_count = 0\n",
    "            for k in range(i-1, i+2):\n",
    "                for l in range(j-1, j+2):\n",
    "                    if (k,l) != (i,j) and grid[(k % grid_height, l % grid_width)]:\n",
    "                        alive_neighbours_count += 1 \n",
    "            if not grid[i, j] and alive_neighbours_count == 3:\n",
    "                updated_grid[i, j] = True\n",
    "            if grid[i, j] and alive_neighbours_count not in [2, 3]:\n",
    "                updated_grid[i, j] = False\n",
    "    return updated_grid"
   ]
  },
  {
   "cell_type": "code",
   "execution_count": 14,
   "metadata": {},
   "outputs": [
    {
     "name": "stdout",
     "output_type": "stream",
     "text": [
      "-------\n",
      "|     |\n",
      "|  #  |\n",
      "|  #  |\n",
      "|  #  |\n",
      "|     |\n",
      "-------\n",
      "\n"
     ]
    }
   ],
   "source": [
    "render(update(grid))"
   ]
  },
  {
   "cell_type": "code",
   "execution_count": 15,
   "metadata": {},
   "outputs": [
    {
     "name": "stdout",
     "output_type": "stream",
     "text": [
      "-------\n",
      "|     |\n",
      "|     |\n",
      "| ### |\n",
      "|     |\n",
      "|     |\n",
      "-------\n",
      "\n"
     ]
    }
   ],
   "source": [
    "render(update(update(grid)))"
   ]
  },
  {
   "cell_type": "code",
   "execution_count": null,
   "metadata": {},
   "outputs": [],
   "source": []
  }
 ],
 "metadata": {
  "kernelspec": {
   "display_name": ".venv",
   "language": "python",
   "name": "python3"
  },
  "language_info": {
   "codemirror_mode": {
    "name": "ipython",
    "version": 3
   },
   "file_extension": ".py",
   "mimetype": "text/x-python",
   "name": "python",
   "nbconvert_exporter": "python",
   "pygments_lexer": "ipython3",
   "version": "3.11.8"
  }
 },
 "nbformat": 4,
 "nbformat_minor": 2
}
